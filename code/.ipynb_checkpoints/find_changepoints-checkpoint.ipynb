{
 "cells": [
  {
   "cell_type": "code",
   "execution_count": 1,
   "metadata": {},
   "outputs": [],
   "source": [
    "import numpy as np"
   ]
  },
  {
   "cell_type": "code",
   "execution_count": 3,
   "metadata": {},
   "outputs": [],
   "source": [
    "datasets = ['C0074', 'C0077', 'C0081', 'C0128', 'C0132', 'C0133']\n",
    "base_path = '../clustering/data22_truncated/'"
   ]
  },
  {
   "cell_type": "code",
   "execution_count": 7,
   "metadata": {},
   "outputs": [],
   "source": [
    "datasets = ['C0074', 'C0077', 'C0081', 'C0128', 'C0132', 'C0133']\n",
    "base_path = '../clustering/pca_clustering/data22/truncated_'"
   ]
  },
  {
   "cell_type": "code",
   "execution_count": 8,
   "metadata": {},
   "outputs": [],
   "source": [
    "def find_change(labels, first_changepoint = 0):\n",
    "    #first_changepoint is for finding two changepoints. Set to the value of the first changepoint\n",
    "    potential_changepoint = 0\n",
    "    old_label = labels[first_changepoint]\n",
    "    found_change = False\n",
    "    \n",
    "    for timestep, label in enumerate(labels[first_changepoint:]):\n",
    "        if label != old_label:\n",
    "            potential_changepoint = timestep\n",
    "            found_change = True\n",
    "            #check to see if we hop back and forth \n",
    "            for next_label in labels[timestep + 1:]:\n",
    "                if next_label == old_label:\n",
    "                    found_change = False\n",
    "                    break\n",
    "            if found_change:\n",
    "                return potential_changepoint\n",
    "        old_label = label\n",
    "    print('Failed to find suitable change point.')"
   ]
  },
  {
   "cell_type": "code",
   "execution_count": 9,
   "metadata": {},
   "outputs": [
    {
     "name": "stdout",
     "output_type": "stream",
     "text": [
      "C0074\n",
      "Kmeans: 448\n",
      "Agg: 451\n",
      "------------------------------\n",
      "C0077\n",
      "Kmeans: 452\n",
      "Agg: 601\n",
      "------------------------------\n",
      "C0081\n",
      "Kmeans: 447\n",
      "Agg: 448\n",
      "------------------------------\n",
      "C0128\n",
      "Kmeans: 451\n",
      "Agg: 271\n",
      "------------------------------\n",
      "C0132\n",
      "Kmeans: 450\n",
      "Agg: 382\n",
      "------------------------------\n",
      "C0133\n",
      "Kmeans: 449\n",
      "Agg: 475\n",
      "------------------------------\n"
     ]
    }
   ],
   "source": [
    "for dataset in datasets:\n",
    "    print(dataset)\n",
    "    \n",
    "    loadpath = base_path + dataset + '_pca_kmeans.txt'\n",
    "    #col 0 is time, col 1 is label\n",
    "    labels = np.loadtxt(loadpath, delimiter = ',')[:, 1]\n",
    "    \n",
    "    print('Kmeans:' , find_change(labels))\n",
    "    \n",
    "    loadpath = base_path + dataset + '_pca_agg_numclusters.txt'\n",
    "    #col 0 is time, col 1 is label\n",
    "    labels = np.loadtxt(loadpath, delimiter = ',')[:, 1]\n",
    "    \n",
    "    print('Agg:' , find_change(labels))\n",
    "    \n",
    "    print('-' * 30)\n",
    "    "
   ]
  },
  {
   "cell_type": "code",
   "execution_count": 10,
   "metadata": {},
   "outputs": [],
   "source": [
    "def find_overlap_len(labels):\n",
    "    potential_changepoint = 0\n",
    "    old_label = labels[0]\n",
    "    found_change = False\n",
    "    first_change = False\n",
    "    first_change_time = 0\n",
    "    \n",
    "    for timestep, label in enumerate(labels):\n",
    "        if label != old_label:\n",
    "            potential_changepoint = timestep\n",
    "            found_change = True\n",
    "            if not first_change:\n",
    "                first_change_time = timestep\n",
    "            first_change = True\n",
    "            #check to see if we hop back and forth \n",
    "            for next_label in labels[timestep + 1:]:\n",
    "                if next_label == old_label:\n",
    "                    found_change = False\n",
    "                    break\n",
    "            if found_change:\n",
    "                return potential_changepoint - first_change_time\n",
    "        old_label = label\n",
    "    print('Failed to find suitable change point.')"
   ]
  },
  {
   "cell_type": "code",
   "execution_count": 11,
   "metadata": {},
   "outputs": [
    {
     "name": "stdout",
     "output_type": "stream",
     "text": [
      "C0074\n",
      "Kmeans: 0\n",
      "Agg: 0\n",
      "------------------------------\n",
      "C0077\n",
      "Kmeans: 0\n",
      "Agg: 0\n",
      "------------------------------\n",
      "C0081\n",
      "Kmeans: 0\n",
      "Agg: 0\n",
      "------------------------------\n",
      "C0128\n",
      "Kmeans: 0\n",
      "Agg: 0\n",
      "------------------------------\n",
      "C0132\n",
      "Kmeans: 0\n",
      "Agg: 0\n",
      "------------------------------\n",
      "C0133\n",
      "Kmeans: 0\n",
      "Agg: 0\n",
      "------------------------------\n",
      "Kmeans Mean: 0.000 +/- 0.000\n",
      "Agg Mean: 0.000 +/- 0.000\n"
     ]
    }
   ],
   "source": [
    "kmeans = []\n",
    "agg = []\n",
    "\n",
    "for dataset in datasets:\n",
    "    print(dataset)\n",
    "    \n",
    "    loadpath = base_path + dataset + '_pca_kmeans.txt'\n",
    "    #col 0 is time, col 1 is label\n",
    "    labels = np.loadtxt(loadpath, delimiter = ',')[:, 1]\n",
    "    overlap = find_overlap_len(labels)\n",
    "    print('Kmeans:' , overlap)\n",
    "    kmeans.append(overlap)\n",
    "    \n",
    "    loadpath = base_path + dataset + '_pca_agg_numclusters.txt'\n",
    "    #col 0 is time, col 1 is label\n",
    "    labels = np.loadtxt(loadpath, delimiter = ',')[:, 1]\n",
    "    overlap = find_overlap_len(labels)\n",
    "    print('Agg:' , overlap)\n",
    "    agg.append(overlap)\n",
    "    \n",
    "    print('-' * 30)\n",
    "    \n",
    "    \n",
    "print(f'Kmeans Mean: {np.mean(kmeans):.3f} +/- {np.std(kmeans):.3f}')\n",
    "print(f'Agg Mean: {np.mean(agg):.3f} +/- {np.std(agg):.3f}')"
   ]
  }
 ],
 "metadata": {
  "kernelspec": {
   "display_name": "Python 3",
   "language": "python",
   "name": "python3"
  },
  "language_info": {
   "codemirror_mode": {
    "name": "ipython",
    "version": 3
   },
   "file_extension": ".py",
   "mimetype": "text/x-python",
   "name": "python",
   "nbconvert_exporter": "python",
   "pygments_lexer": "ipython3",
   "version": "3.7.6"
  }
 },
 "nbformat": 4,
 "nbformat_minor": 4
}
